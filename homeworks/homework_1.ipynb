{
  "cells": [
    {
      "cell_type": "markdown",
      "id": "51c5cef6",
      "metadata": {
        "id": "51c5cef6"
      },
      "source": [
        "## Homework #1 "
      ]
    },
    {
      "cell_type": "markdown",
      "id": "9e18ef36",
      "metadata": {
        "id": "9e18ef36"
      },
      "source": [
        "### Set up the environment"
      ]
    },
    {
      "cell_type": "markdown",
      "id": "0a94d00b",
      "metadata": {
        "id": "0a94d00b"
      },
      "source": [
        "You need to install Python, NumPy, Pandas, Matplotlib and Seaborn. For that, you can the instructions from <a href='https://github.com/alexeygrigorev/mlbookcamp-code/blob/master/course-zoomcamp/01-intro/06-environment.md'>06-environment.md</a>."
      ]
    },
    {
      "cell_type": "code",
      "execution_count": 1,
      "id": "41eae4aa",
      "metadata": {
        "id": "41eae4aa"
      },
      "outputs": [],
      "source": [
        "import numpy as np\n",
        "import pandas as pd"
      ]
    },
    {
      "cell_type": "markdown",
      "id": "04514a64",
      "metadata": {
        "id": "04514a64"
      },
      "source": [
        "### Question 1"
      ]
    },
    {
      "cell_type": "markdown",
      "id": "39ca9b76",
      "metadata": {
        "id": "39ca9b76"
      },
      "source": [
        "What's the version of Pandas that you installed?\n",
        "\n",
        "You can get the version information using the `__version__` field:\n",
        "\n",
        "```python\n",
        "pd.__version__\n",
        "```"
      ]
    },
    {
      "cell_type": "code",
      "execution_count": 2,
      "id": "be3ac3dd",
      "metadata": {
        "colab": {
          "base_uri": "https://localhost:8080/",
          "height": 36
        },
        "id": "be3ac3dd",
        "outputId": "b08ceaff-8060-4640-be48-435656007e7c"
      },
      "outputs": [
        {
          "data": {
            "text/plain": [
              "'1.2.4'"
            ]
          },
          "execution_count": 2,
          "metadata": {},
          "output_type": "execute_result"
        }
      ],
      "source": [
        "pd.__version__"
      ]
    },
    {
      "cell_type": "markdown",
      "id": "adce9d0b",
      "metadata": {
        "id": "adce9d0b"
      },
      "source": [
        "### Getting the data"
      ]
    },
    {
      "cell_type": "markdown",
      "id": "563f5833",
      "metadata": {
        "id": "563f5833"
      },
      "source": [
        "For this homework, we'll use the California Housing Prices dataset. Download it from \n",
        "[here](https://raw.githubusercontent.com/alexeygrigorev/datasets/master/housing.csv).\n",
        "\n",
        "You can do it with wget:\n",
        "\n",
        "```bash\n",
        "wget https://raw.githubusercontent.com/alexeygrigorev/datasets/master/housing.csv\n",
        "```\n",
        "\n",
        "Or just open it with your browser and click \"Save as...\".\n",
        "\n",
        "Now read it with Pandas."
      ]
    },
    {
      "cell_type": "code",
      "execution_count": 3,
      "id": "4e9364c6",
      "metadata": {
        "id": "4e9364c6"
      },
      "outputs": [],
      "source": [
        "data = pd.read_csv(\"https://raw.githubusercontent.com/alexeygrigorev/datasets/master/housing.csv\")"
      ]
    },
    {
      "cell_type": "markdown",
      "id": "3787858f",
      "metadata": {
        "id": "3787858f"
      },
      "source": [
        "### Question 2"
      ]
    },
    {
      "cell_type": "markdown",
      "id": "abf0a8ef",
      "metadata": {
        "id": "abf0a8ef"
      },
      "source": [
        "How many columns are in the dataset?"
      ]
    },
    {
      "cell_type": "code",
      "execution_count": 5,
      "id": "53c3bb22",
      "metadata": {
        "colab": {
          "base_uri": "https://localhost:8080/"
        },
        "id": "53c3bb22",
        "outputId": "f312d0d8-911f-413d-896e-fcc89a59c9ca"
      },
      "outputs": [
        {
          "data": {
            "text/plain": [
              "10"
            ]
          },
          "execution_count": 5,
          "metadata": {},
          "output_type": "execute_result"
        }
      ],
      "source": [
        "data.shape[1]   # alternative is len(data.index)"
      ]
    },
    {
      "cell_type": "markdown",
      "id": "c5c5a015",
      "metadata": {
        "id": "c5c5a015"
      },
      "source": [
        "### Question 3"
      ]
    },
    {
      "cell_type": "markdown",
      "id": "215bb0f0",
      "metadata": {
        "id": "215bb0f0"
      },
      "source": [
        "Which columns in the dataset have missing values?"
      ]
    },
    {
      "cell_type": "code",
      "execution_count": 7,
      "id": "e0eb82f6",
      "metadata": {},
      "outputs": [
        {
          "data": {
            "text/plain": [
              "longitude               0\n",
              "latitude                0\n",
              "housing_median_age      0\n",
              "total_rooms             0\n",
              "total_bedrooms        207\n",
              "population              0\n",
              "households              0\n",
              "median_income           0\n",
              "median_house_value      0\n",
              "ocean_proximity         0\n",
              "dtype: int64"
            ]
          },
          "execution_count": 7,
          "metadata": {},
          "output_type": "execute_result"
        }
      ],
      "source": [
        "data.isnull().sum()"
      ]
    },
    {
      "cell_type": "code",
      "execution_count": null,
      "id": "u3aaRkGy7QiD",
      "metadata": {
        "colab": {
          "base_uri": "https://localhost:8080/"
        },
        "id": "u3aaRkGy7QiD",
        "outputId": "bacee4d9-ae98-4470-a18b-d15814720125"
      },
      "outputs": [
        {
          "data": {
            "text/plain": [
              "Chevrolet     1123\n",
              "Ford           881\n",
              "Volkswagen     809\n",
              "Toyota         746\n",
              "Dodge          626\n",
              "Name: Make, dtype: int64"
            ]
          },
          "execution_count": 5,
          "metadata": {},
          "output_type": "execute_result"
        }
      ],
      "source": [
        "data['Make'].value_counts().head()"
      ]
    },
    {
      "cell_type": "markdown",
      "id": "Gs-F0NGmT1rY",
      "metadata": {
        "id": "Gs-F0NGmT1rY"
      },
      "source": [
        "### Question 4"
      ]
    },
    {
      "cell_type": "markdown",
      "id": "YEL7kG-qT40Z",
      "metadata": {
        "id": "YEL7kG-qT40Z"
      },
      "source": [
        "How many unique values does the `ocean_proximity` column have?"
      ]
    },
    {
      "cell_type": "code",
      "execution_count": 10,
      "id": "cccf9f5d",
      "metadata": {},
      "outputs": [
        {
          "data": {
            "text/plain": [
              "5"
            ]
          },
          "execution_count": 10,
          "metadata": {},
          "output_type": "execute_result"
        }
      ],
      "source": [
        "data['ocean_proximity'].nunique()"
      ]
    },
    {
      "cell_type": "markdown",
      "id": "1ede2dba",
      "metadata": {
        "id": "1ede2dba"
      },
      "source": [
        "### Question 5"
      ]
    },
    {
      "cell_type": "markdown",
      "id": "lmCmA9GIUPU0",
      "metadata": {
        "id": "lmCmA9GIUPU0"
      },
      "source": [
        "What's the average value of the `median_house_value` for the houses located near the bay?"
      ]
    },
    {
      "cell_type": "code",
      "execution_count": 16,
      "id": "IQ8dlAmw4ynp",
      "metadata": {
        "colab": {
          "base_uri": "https://localhost:8080/"
        },
        "id": "IQ8dlAmw4ynp",
        "outputId": "48b92886-fe77-48c9-d451-9d6838011894"
      },
      "outputs": [
        {
          "data": {
            "text/plain": [
              "259212.31179039303"
            ]
          },
          "execution_count": 16,
          "metadata": {},
          "output_type": "execute_result"
        }
      ],
      "source": [
        "data[data['ocean_proximity']=='NEAR BAY']['median_house_value'].mean()"
      ]
    },
    {
      "cell_type": "markdown",
      "id": "fBGCGXluUdU7",
      "metadata": {
        "id": "fBGCGXluUdU7"
      },
      "source": [
        "We can see that 5 columns have missing values.\n",
        "\n",
        "We can also calculate it in one line:"
      ]
    },
    {
      "cell_type": "code",
      "execution_count": null,
      "id": "XXS-4Eav5fX2",
      "metadata": {
        "colab": {
          "base_uri": "https://localhost:8080/"
        },
        "id": "XXS-4Eav5fX2",
        "outputId": "0b61328e-9e9e-457a-c223-a31975cc75c5"
      },
      "outputs": [
        {
          "data": {
            "text/plain": [
              "5"
            ]
          },
          "execution_count": 8,
          "metadata": {},
          "output_type": "execute_result"
        }
      ],
      "source": [
        "(data.isnull().sum() != 0).sum()"
      ]
    },
    {
      "cell_type": "markdown",
      "id": "4c194fcb",
      "metadata": {},
      "source": [
        "### Question 6"
      ]
    },
    {
      "cell_type": "markdown",
      "id": "f2a4022d",
      "metadata": {},
      "source": [
        "1. Calculate the average of `total_bedrooms` column in the dataset.\n",
        "2. Use the `fillna` method to fill the missing values in `total_bedrooms` with the mean value from the previous step.\n",
        "3. Now, calculate the average of `total_bedrooms` again.\n",
        "4. Has it changed?\n",
        "\n",
        "Has it changed?\n",
        "\n",
        "> Hint: take into account only 3 digits after the decimal point.\n",
        "\n",
        "- Yes\n",
        "- No"
      ]
    },
    {
      "cell_type": "code",
      "execution_count": 21,
      "id": "47d97498",
      "metadata": {},
      "outputs": [
        {
          "name": "stdout",
          "output_type": "stream",
          "text": [
            "537.871\n"
          ]
        },
        {
          "data": {
            "text/plain": [
              "537.871"
            ]
          },
          "execution_count": 21,
          "metadata": {},
          "output_type": "execute_result"
        }
      ],
      "source": [
        "avg_total_bedrooms = data['total_bedrooms'].mean()\n",
        "print(round(avg_total_bedrooms,3))\n",
        "\n",
        "\n",
        "round(data['total_bedrooms'].fillna(round(avg_total_bedrooms,3)).mean(),3)\n",
        "\n"
      ]
    },
    {
      "cell_type": "markdown",
      "id": "b4358acd",
      "metadata": {},
      "source": [
        "It did  not change."
      ]
    },
    {
      "cell_type": "markdown",
      "id": "0104cb50",
      "metadata": {},
      "source": [
        "### Question 7"
      ]
    },
    {
      "cell_type": "markdown",
      "id": "db65ca85",
      "metadata": {},
      "source": [
        "1. Select all the options located on islands.\n",
        "2. Select only columns `housing_median_age`, `total_rooms`, `total_bedrooms`.\n",
        "3. Get the underlying NumPy array. Let's call it `X`.\n",
        "4. Compute matrix-matrix multiplication between the transpose of `X` and `X`. To get the transpose, use `X.T`. Let's call the result `XTX`.\n",
        "5. Compute the inverse of `XTX`.\n",
        "6. Create an array `y` with values `[950, 1300, 800, 1000, 1300]`.\n",
        "7. Multiply the inverse of `XTX` with the transpose of `X`, and then multiply the result by `y`. Call the result `w`.\n",
        "8. What's the value of the last element of `w`?\n",
        "\n",
        "> **Note**: You just implemented linear regression. We'll talk about it in the next lesson."
      ]
    },
    {
      "cell_type": "code",
      "execution_count": 29,
      "id": "1ffc5e15",
      "metadata": {},
      "outputs": [
        {
          "data": {
            "text/html": [
              "<div>\n",
              "<style scoped>\n",
              "    .dataframe tbody tr th:only-of-type {\n",
              "        vertical-align: middle;\n",
              "    }\n",
              "\n",
              "    .dataframe tbody tr th {\n",
              "        vertical-align: top;\n",
              "    }\n",
              "\n",
              "    .dataframe thead th {\n",
              "        text-align: right;\n",
              "    }\n",
              "</style>\n",
              "<table border=\"1\" class=\"dataframe\">\n",
              "  <thead>\n",
              "    <tr style=\"text-align: right;\">\n",
              "      <th></th>\n",
              "      <th>housing_median_age</th>\n",
              "      <th>total_rooms</th>\n",
              "      <th>total_bedrooms</th>\n",
              "    </tr>\n",
              "  </thead>\n",
              "  <tbody>\n",
              "    <tr>\n",
              "      <th>8314</th>\n",
              "      <td>27.0</td>\n",
              "      <td>1675.0</td>\n",
              "      <td>521.0</td>\n",
              "    </tr>\n",
              "    <tr>\n",
              "      <th>8315</th>\n",
              "      <td>52.0</td>\n",
              "      <td>2359.0</td>\n",
              "      <td>591.0</td>\n",
              "    </tr>\n",
              "    <tr>\n",
              "      <th>8316</th>\n",
              "      <td>52.0</td>\n",
              "      <td>2127.0</td>\n",
              "      <td>512.0</td>\n",
              "    </tr>\n",
              "    <tr>\n",
              "      <th>8317</th>\n",
              "      <td>52.0</td>\n",
              "      <td>996.0</td>\n",
              "      <td>264.0</td>\n",
              "    </tr>\n",
              "    <tr>\n",
              "      <th>8318</th>\n",
              "      <td>29.0</td>\n",
              "      <td>716.0</td>\n",
              "      <td>214.0</td>\n",
              "    </tr>\n",
              "  </tbody>\n",
              "</table>\n",
              "</div>"
            ],
            "text/plain": [
              "      housing_median_age  total_rooms  total_bedrooms\n",
              "8314                27.0       1675.0           521.0\n",
              "8315                52.0       2359.0           591.0\n",
              "8316                52.0       2127.0           512.0\n",
              "8317                52.0        996.0           264.0\n",
              "8318                29.0        716.0           214.0"
            ]
          },
          "execution_count": 29,
          "metadata": {},
          "output_type": "execute_result"
        }
      ],
      "source": [
        "island_df=data[data['ocean_proximity']=='ISLAND']\n",
        "island_df=island_df[['housing_median_age', 'total_rooms', 'total_bedrooms']]\n",
        "island_df\n"
      ]
    },
    {
      "cell_type": "code",
      "execution_count": 30,
      "id": "23d06dc0",
      "metadata": {},
      "outputs": [
        {
          "data": {
            "text/plain": [
              "array([[ 9.19403586e-04, -3.66412216e-05,  5.43072261e-05],\n",
              "       [-3.66412216e-05,  8.23303633e-06, -2.77534485e-05],\n",
              "       [ 5.43072261e-05, -2.77534485e-05,  1.00891325e-04]])"
            ]
          },
          "execution_count": 30,
          "metadata": {},
          "output_type": "execute_result"
        }
      ],
      "source": [
        "X = island_df.to_numpy()\n",
        "XTX = X.T @ X\n",
        "XTX_inv = np.linalg.inv(XTX)\n",
        "XTX_inv"
      ]
    },
    {
      "cell_type": "code",
      "execution_count": 31,
      "id": "930e8f13",
      "metadata": {},
      "outputs": [],
      "source": [
        "y = np.array([950, 1300, 800, 1000, 1300])"
      ]
    },
    {
      "cell_type": "code",
      "execution_count": 32,
      "id": "55c47624",
      "metadata": {},
      "outputs": [],
      "source": [
        "w = (XTX_inv @ X.T) @ y"
      ]
    },
    {
      "cell_type": "code",
      "execution_count": 34,
      "id": "2d6d3640",
      "metadata": {},
      "outputs": [
        {
          "data": {
            "text/plain": [
              "5.6992294550655656"
            ]
          },
          "execution_count": 34,
          "metadata": {},
          "output_type": "execute_result"
        }
      ],
      "source": [
        "w[-1]"
      ]
    }
  ],
  "metadata": {
    "colab": {
      "collapsed_sections": [],
      "provenance": []
    },
    "kernelspec": {
      "display_name": "Python 3 (ipykernel)",
      "language": "python",
      "name": "python3"
    },
    "language_info": {
      "codemirror_mode": {
        "name": "ipython",
        "version": 3
      },
      "file_extension": ".py",
      "mimetype": "text/x-python",
      "name": "python",
      "nbconvert_exporter": "python",
      "pygments_lexer": "ipython3",
      "version": "3.8.8"
    }
  },
  "nbformat": 4,
  "nbformat_minor": 5
}
