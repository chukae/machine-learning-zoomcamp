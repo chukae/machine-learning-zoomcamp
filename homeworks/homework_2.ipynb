{
  "cells": [
    {
      "cell_type": "markdown",
      "metadata": {},
      "source": [
        "## Homework 2\n",
        "\n",
        "> Note: sometimes your answer doesn't match one of \n",
        "> the options exactly. That's fine. \n",
        "> Select the option that's closest to your solution.\n",
        "\n",
        "### Dataset\n",
        "\n",
        "In this homework, we will use the California Housing Prices from [Kaggle](https://www.kaggle.com/datasets/camnugent/california-housing-prices).\n",
        "\n",
        "Here's a wget-able [link](https://raw.githubusercontent.com/alexeygrigorev/datasets/master/housing.csv):"
      ]
    },
    {
      "cell_type": "markdown",
      "metadata": {
        "id": "1RP5ocnmvaNJ"
      },
      "source": [
        "**INITIALIZATION:**"
      ]
    },
    {
      "cell_type": "code",
      "execution_count": 1,
      "metadata": {
        "id": "9UkFwRCfs0oo"
      },
      "outputs": [],
      "source": [
        "# Import Libraries:\n",
        "import numpy as np\n",
        "import pandas as pd\n",
        "import seaborn as sns\n",
        "import matplotlib.pyplot as plt\n",
        "from sklearn.linear_model import LinearRegression"
      ]
    },
    {
      "cell_type": "markdown",
      "metadata": {},
      "source": [
        "### EDA\n",
        "\n",
        "* Load the data.\n",
        "* Look at the `median_house_value` variable. Does it have a long tail? - It does not. "
      ]
    },
    {
      "cell_type": "markdown",
      "metadata": {
        "id": "XAWt3FaGvi2V"
      },
      "source": [
        "**IMPORTING DATASET:**"
      ]
    },
    {
      "cell_type": "code",
      "execution_count": 2,
      "metadata": {
        "id": "qZ3ySstmvWhk"
      },
      "outputs": [],
      "source": [
        "#@ IMPORTING DATASET:\n",
        "PATH = \"https://raw.githubusercontent.com/alexeygrigorev/datasets/master/housing.csv\"\n",
        "\n",
        "data = pd.read_csv(PATH)"
      ]
    },
    {
      "cell_type": "code",
      "execution_count": 3,
      "metadata": {},
      "outputs": [
        {
          "data": {
            "image/png": "[encoded data removed]",
            "text/plain": [
              "<Figure size 432x288 with 1 Axes>"
            ]
          },
          "metadata": {
            "needs_background": "light"
          },
          "output_type": "display_data"
        }
      ],
      "source": [
        "sns.histplot(data.median_house_value)\n",
        "plt.show()"
      ]
    },
    {
      "cell_type": "markdown",
      "metadata": {},
      "source": [
        "### Preparing the dataset \n",
        "\n",
        "For this homework, we only want to use a subset of data. \n",
        "\n",
        "First, keep only the records where `ocean_proximity` is either `'<1H OCEAN'` or `'INLAND'`\n",
        "\n",
        "Next, use only the following columns:\n",
        "\n",
        "* `'latitude'`,\n",
        "* `'longitude'`,\n",
        "* `'housing_median_age'`,\n",
        "* `'total_rooms'`,\n",
        "* `'total_bedrooms'`,\n",
        "* `'population'`,\n",
        "* `'households'`,\n",
        "* `'median_income'`,\n",
        "* `'median_house_value'`"
      ]
    },
    {
      "cell_type": "code",
      "execution_count": 4,
      "metadata": {},
      "outputs": [],
      "source": [
        "select_cols = [\"latitude\",\"longitude\", \"housing_median_age\", \"total_rooms\", \"total_bedrooms\", \"population\", \"households\", \n",
        "               \"median_income\", \"median_house_value\"]"
      ]
    },
    {
      "cell_type": "code",
      "execution_count": 5,
      "metadata": {},
      "outputs": [],
      "source": [
        "data=data[(data.ocean_proximity=='<1H OCEAN') | (data.ocean_proximity=='INLAND')]"
      ]
    },
    {
      "cell_type": "code",
      "execution_count": 6,
      "metadata": {},
      "outputs": [],
      "source": [
        "data=data[select_cols]"
      ]
    },
    {
      "cell_type": "code",
      "execution_count": 7,
      "metadata": {
        "colab": {
          "base_uri": "https://localhost:8080/"
        },
        "id": "jQ_W08Z5xcdr",
        "outputId": "6111a570-a2c9-491c-afbc-db1396070970"
      },
      "outputs": [
        {
          "name": "stdout",
          "output_type": "stream",
          "text": [
            "(15687, 9)\n"
          ]
        }
      ],
      "source": [
        "# Check shape of DATAFRAME:\n",
        "print(data.shape)"
      ]
    },
    {
      "cell_type": "code",
      "execution_count": 8,
      "metadata": {
        "colab": {
          "base_uri": "https://localhost:8080/",
          "height": 427
        },
        "id": "CCXyC6J-xixG",
        "outputId": "0856f585-0283-439d-ec79-7f734ba0b03f"
      },
      "outputs": [
        {
          "data": {
            "text/html": [
              "<div>\n",
              "<style scoped>\n",
              "    .dataframe tbody tr th:only-of-type {\n",
              "        vertical-align: middle;\n",
              "    }\n",
              "\n",
              "    .dataframe tbody tr th {\n",
              "        vertical-align: top;\n",
              "    }\n",
              "\n",
              "    .dataframe thead th {\n",
              "        text-align: right;\n",
              "    }\n",
              "</style>\n",
              "<table border=\"1\" class=\"dataframe\">\n",
              "  <thead>\n",
              "    <tr style=\"text-align: right;\">\n",
              "      <th></th>\n",
              "      <th>latitude</th>\n",
              "      <th>longitude</th>\n",
              "      <th>housing_median_age</th>\n",
              "      <th>total_rooms</th>\n",
              "      <th>total_bedrooms</th>\n",
              "      <th>population</th>\n",
              "      <th>households</th>\n",
              "      <th>median_income</th>\n",
              "      <th>median_house_value</th>\n",
              "    </tr>\n",
              "  </thead>\n",
              "  <tbody>\n",
              "    <tr>\n",
              "      <th>701</th>\n",
              "      <td>37.64</td>\n",
              "      <td>-121.97</td>\n",
              "      <td>32.0</td>\n",
              "      <td>1283.0</td>\n",
              "      <td>194.0</td>\n",
              "      <td>485.0</td>\n",
              "      <td>171.0</td>\n",
              "      <td>6.0574</td>\n",
              "      <td>431000.0</td>\n",
              "    </tr>\n",
              "    <tr>\n",
              "      <th>830</th>\n",
              "      <td>37.61</td>\n",
              "      <td>-121.99</td>\n",
              "      <td>9.0</td>\n",
              "      <td>3666.0</td>\n",
              "      <td>711.0</td>\n",
              "      <td>2341.0</td>\n",
              "      <td>703.0</td>\n",
              "      <td>4.6458</td>\n",
              "      <td>217000.0</td>\n",
              "    </tr>\n",
              "    <tr>\n",
              "      <th>859</th>\n",
              "      <td>37.57</td>\n",
              "      <td>-121.97</td>\n",
              "      <td>21.0</td>\n",
              "      <td>4342.0</td>\n",
              "      <td>783.0</td>\n",
              "      <td>2172.0</td>\n",
              "      <td>789.0</td>\n",
              "      <td>4.6146</td>\n",
              "      <td>247600.0</td>\n",
              "    </tr>\n",
              "    <tr>\n",
              "      <th>860</th>\n",
              "      <td>37.58</td>\n",
              "      <td>-121.96</td>\n",
              "      <td>15.0</td>\n",
              "      <td>3575.0</td>\n",
              "      <td>597.0</td>\n",
              "      <td>1777.0</td>\n",
              "      <td>559.0</td>\n",
              "      <td>5.7192</td>\n",
              "      <td>283500.0</td>\n",
              "    </tr>\n",
              "    <tr>\n",
              "      <th>861</th>\n",
              "      <td>37.58</td>\n",
              "      <td>-121.98</td>\n",
              "      <td>20.0</td>\n",
              "      <td>4126.0</td>\n",
              "      <td>1031.0</td>\n",
              "      <td>2079.0</td>\n",
              "      <td>975.0</td>\n",
              "      <td>3.6832</td>\n",
              "      <td>216900.0</td>\n",
              "    </tr>\n",
              "    <tr>\n",
              "      <th>862</th>\n",
              "      <td>37.58</td>\n",
              "      <td>-121.99</td>\n",
              "      <td>31.0</td>\n",
              "      <td>2878.0</td>\n",
              "      <td>478.0</td>\n",
              "      <td>1276.0</td>\n",
              "      <td>485.0</td>\n",
              "      <td>6.2073</td>\n",
              "      <td>282500.0</td>\n",
              "    </tr>\n",
              "    <tr>\n",
              "      <th>863</th>\n",
              "      <td>37.58</td>\n",
              "      <td>-122.00</td>\n",
              "      <td>6.0</td>\n",
              "      <td>4405.0</td>\n",
              "      <td>717.0</td>\n",
              "      <td>2071.0</td>\n",
              "      <td>688.0</td>\n",
              "      <td>5.8151</td>\n",
              "      <td>295600.0</td>\n",
              "    </tr>\n",
              "    <tr>\n",
              "      <th>870</th>\n",
              "      <td>37.49</td>\n",
              "      <td>-121.93</td>\n",
              "      <td>5.0</td>\n",
              "      <td>1150.0</td>\n",
              "      <td>311.0</td>\n",
              "      <td>648.0</td>\n",
              "      <td>245.0</td>\n",
              "      <td>3.5714</td>\n",
              "      <td>300000.0</td>\n",
              "    </tr>\n",
              "    <tr>\n",
              "      <th>880</th>\n",
              "      <td>37.56</td>\n",
              "      <td>-121.99</td>\n",
              "      <td>18.0</td>\n",
              "      <td>5505.0</td>\n",
              "      <td>1005.0</td>\n",
              "      <td>2641.0</td>\n",
              "      <td>971.0</td>\n",
              "      <td>5.0000</td>\n",
              "      <td>269700.0</td>\n",
              "    </tr>\n",
              "    <tr>\n",
              "      <th>881</th>\n",
              "      <td>37.56</td>\n",
              "      <td>-121.99</td>\n",
              "      <td>20.0</td>\n",
              "      <td>6462.0</td>\n",
              "      <td>1294.0</td>\n",
              "      <td>3288.0</td>\n",
              "      <td>1235.0</td>\n",
              "      <td>4.3393</td>\n",
              "      <td>231200.0</td>\n",
              "    </tr>\n",
              "  </tbody>\n",
              "</table>\n",
              "</div>"
            ],
            "text/plain": [
              "     latitude  longitude  housing_median_age  total_rooms  total_bedrooms  \\\n",
              "701     37.64    -121.97                32.0       1283.0           194.0   \n",
              "830     37.61    -121.99                 9.0       3666.0           711.0   \n",
              "859     37.57    -121.97                21.0       4342.0           783.0   \n",
              "860     37.58    -121.96                15.0       3575.0           597.0   \n",
              "861     37.58    -121.98                20.0       4126.0          1031.0   \n",
              "862     37.58    -121.99                31.0       2878.0           478.0   \n",
              "863     37.58    -122.00                 6.0       4405.0           717.0   \n",
              "870     37.49    -121.93                 5.0       1150.0           311.0   \n",
              "880     37.56    -121.99                18.0       5505.0          1005.0   \n",
              "881     37.56    -121.99                20.0       6462.0          1294.0   \n",
              "\n",
              "     population  households  median_income  median_house_value  \n",
              "701       485.0       171.0         6.0574            431000.0  \n",
              "830      2341.0       703.0         4.6458            217000.0  \n",
              "859      2172.0       789.0         4.6146            247600.0  \n",
              "860      1777.0       559.0         5.7192            283500.0  \n",
              "861      2079.0       975.0         3.6832            216900.0  \n",
              "862      1276.0       485.0         6.2073            282500.0  \n",
              "863      2071.0       688.0         5.8151            295600.0  \n",
              "870       648.0       245.0         3.5714            300000.0  \n",
              "880      2641.0       971.0         5.0000            269700.0  \n",
              "881      3288.0      1235.0         4.3393            231200.0  "
            ]
          },
          "execution_count": 8,
          "metadata": {},
          "output_type": "execute_result"
        }
      ],
      "source": [
        "# Inspect DATAFRAME:\n",
        "data.head(10)"
      ]
    },
    {
      "cell_type": "markdown",
      "metadata": {},
      "source": [
        "### Question 1\n",
        "\n",
        "There's one feature with missing values. What is it?\n",
        "\n",
        "* `total_rooms`\n",
        "* `total_bedrooms`\n",
        "* `population`\n",
        "* `households`\n",
        "\n"
      ]
    },
    {
      "cell_type": "code",
      "execution_count": 9,
      "metadata": {},
      "outputs": [
        {
          "data": {
            "text/plain": [
              "latitude                0\n",
              "longitude               0\n",
              "housing_median_age      0\n",
              "total_rooms             0\n",
              "total_bedrooms        157\n",
              "population              0\n",
              "households              0\n",
              "median_income           0\n",
              "median_house_value      0\n",
              "dtype: int64"
            ]
          },
          "execution_count": 9,
          "metadata": {},
          "output_type": "execute_result"
        }
      ],
      "source": [
        "data.isnull().sum()"
      ]
    },
    {
      "cell_type": "markdown",
      "metadata": {},
      "source": [
        "### Question 2\n",
        "\n",
        "What's the median (50% percentile) for variable `'population'`?\n",
        "\n",
        "- 995\n",
        "- 1095\n",
        "- 1195\n",
        "- 1295"
      ]
    },
    {
      "cell_type": "code",
      "execution_count": 10,
      "metadata": {},
      "outputs": [
        {
          "data": {
            "text/plain": [
              "1195.0"
            ]
          },
          "execution_count": 10,
          "metadata": {},
          "output_type": "execute_result"
        }
      ],
      "source": [
        "data.population.median()"
      ]
    },
    {
      "cell_type": "markdown",
      "metadata": {},
      "source": [
        "### Prepare and split the dataset\n",
        "\n",
        "* Shuffle the initial dataset, use seed `42`.\n",
        "* Split your data in train/val/test sets, with 60%/20%/20% distribution.\n",
        "* Apply the log transformation to the `median_house_value` variable using the `np.log1p()` function."
      ]
    },
    {
      "cell_type": "code",
      "execution_count": 11,
      "metadata": {},
      "outputs": [],
      "source": [
        "# Split dataset:\n",
        "n = len(data)\n",
        "n_val = int(0.2 * n)\n",
        "n_test = int(0.2 * n)\n",
        "n_train = n - (n_val + n_test)\n",
        "\n",
        "# Shuffle dataset:\n",
        "idx = np.arange(n)\n",
        "np.random.seed(42)\n",
        "np.random.shuffle(idx)\n",
        "df_shuffled = data.iloc[idx]"
      ]
    },
    {
      "cell_type": "code",
      "execution_count": 12,
      "metadata": {},
      "outputs": [],
      "source": [
        "# Prepare dataset:\n",
        "df_train = df_shuffled.iloc[:n_train].copy()\n",
        "df_val = df_shuffled.iloc[n_train:n_train+n_val].copy()\n",
        "df_test = df_shuffled.iloc[n_train+n_val:].copy()\n",
        "\n",
        "df_train = df_train.reset_index(drop=True)\n",
        "df_val = df_val.reset_index(drop=True)\n",
        "df_test = df_test.reset_index(drop=True)"
      ]
    },
    {
      "cell_type": "code",
      "execution_count": 13,
      "metadata": {},
      "outputs": [],
      "source": [
        "# Prepare labels:\n",
        "y_train_orig = df_train.median_house_value.values\n",
        "y_val_orig = df_val.median_house_value.values\n",
        "y_test_orig = df_test.median_house_value.values\n",
        "\n",
        "y_train = np.log1p(y_train_orig)\n",
        "y_val = np.log1p(y_val_orig)\n",
        "y_test = np.log1p(y_test_orig)"
      ]
    },
    {
      "cell_type": "code",
      "execution_count": 14,
      "metadata": {},
      "outputs": [],
      "source": [
        "#@ DELETING DATASET:\n",
        "del df_train['median_house_value']\n",
        "del df_val['median_house_value']\n",
        "del df_test['median_house_value']"
      ]
    },
    {
      "cell_type": "code",
      "execution_count": 15,
      "metadata": {},
      "outputs": [],
      "source": [
        "#@ PREPARING THE DATASET:\n",
        "check=[\"longitude\", \"latitude\", \"housing_median_age\", \"total_rooms\", \"total_bedrooms\", \n",
        "       \"population\", \"households\", \"median_income\"]\n",
        "\n",
        "#@ DEFINING FUNCTION:\n",
        "def prepare_X(df, fillna_value):\n",
        "    df_num = df[check]\n",
        "    df_num = df_num.fillna(fillna_value)\n",
        "    X = df_num.values\n",
        "    return X"
      ]
    },
    {
      "cell_type": "code",
      "execution_count": 16,
      "metadata": {},
      "outputs": [],
      "source": [
        "# Function to compute RMSE\n",
        "def rmse(y, y_pred):\n",
        "    error = y_pred - y\n",
        "    mse = (error ** 2).mean()\n",
        "    return np.sqrt(mse)"
      ]
    },
    {
      "cell_type": "code",
      "execution_count": 17,
      "metadata": {},
      "outputs": [],
      "source": [
        "#LINEAR Regression function:\n",
        "def train_linear_regression(X, y):\n",
        "    ones = np.ones(X.shape[0])\n",
        "    X = np.column_stack([ones, X])\n",
        "\n",
        "    XTX = X.T.dot(X)\n",
        "    XTX_inv = np.linalg.inv(XTX)\n",
        "    w = XTX_inv.dot(X.T).dot(y)\n",
        "    \n",
        "    return w[0], w[1:]"
      ]
    },
    {
      "cell_type": "code",
      "execution_count": 18,
      "metadata": {},
      "outputs": [],
      "source": [
        "# Fill missing values with mean\n",
        "mean = df_train.total_bedrooms.mean()\n",
        "\n",
        "X_mean_train = prepare_X(df_train, fillna_value=mean)\n",
        "w_0_mean, w_mean = train_linear_regression(X_mean_train, y_train)\n",
        "\n",
        "# Fill missing values with mean\n",
        "X_mean_val = prepare_X(df_val, fillna_value=mean)\n",
        "y_mean_pred_val = w_0_mean + X_mean_val.dot(w_mean)"
      ]
    },
    {
      "cell_type": "code",
      "execution_count": 19,
      "metadata": {},
      "outputs": [
        {
          "data": {
            "text/plain": [
              "0.34"
            ]
          },
          "execution_count": 19,
          "metadata": {},
          "output_type": "execute_result"
        }
      ],
      "source": [
        "# Get RMSE score\n",
        "np.round(rmse(y_val, y_mean_pred_val),2)"
      ]
    },
    {
      "cell_type": "code",
      "execution_count": 20,
      "metadata": {},
      "outputs": [],
      "source": [
        "# Fill missing values with zero\n",
        "X_null_train = prepare_X(df_train, fillna_value=0)\n",
        "w_0_null, w_null = train_linear_regression(X_null_train, y_train)\n",
        "\n",
        "# Fill missing values with zero\n",
        "X_null_val = prepare_X(df_val, fillna_value=0)\n",
        "y_null_pred_val = w_0_null + X_null_val.dot(w_null)"
      ]
    },
    {
      "cell_type": "code",
      "execution_count": 21,
      "metadata": {},
      "outputs": [
        {
          "data": {
            "text/plain": [
              "0.34"
            ]
          },
          "execution_count": 21,
          "metadata": {},
          "output_type": "execute_result"
        }
      ],
      "source": [
        "#@ GETTING RMSE SCORE:\n",
        "np.round(rmse(y_val, y_null_pred_val),2)"
      ]
    },
    {
      "cell_type": "code",
      "execution_count": 22,
      "metadata": {},
      "outputs": [],
      "source": [
        "#Linear Regression regularised:\n",
        "def train_linear_regression_reg(X, y, r=0.0):\n",
        "    ones = np.ones(X.shape[0])\n",
        "    X = np.column_stack([ones, X])\n",
        "\n",
        "    XTX = X.T.dot(X)\n",
        "    reg = r * np.eye(XTX.shape[0])\n",
        "    XTX = XTX + reg\n",
        "\n",
        "    XTX_inv = np.linalg.inv(XTX)\n",
        "    w = XTX_inv.dot(X.T).dot(y)\n",
        "    \n",
        "    return w[0], w[1:]"
      ]
    },
    {
      "cell_type": "markdown",
      "metadata": {},
      "source": [
        "\n",
        "### Question 4\n",
        "\n",
        "* Now let's train a regularized linear regression.\n",
        "* For this question, fill the NAs with 0. \n",
        "* Try different values of `r` from this list: `[0, 0.000001, 0.0001, 0.001, 0.01, 0.1, 1, 5, 10]`.\n",
        "* Use RMSE to evaluate the model on the validation dataset.\n",
        "* Round the RMSE scores to 2 decimal digits.\n",
        "* Which `r` gives the best RMSE?\n",
        "\n",
        "If there are multiple options, select the smallest `r`.\n",
        "\n",
        "Options:\n",
        "\n",
        "- 0\n",
        "- 0.000001\n",
        "- 0.001\n",
        "- 0.0001"
      ]
    },
    {
      "cell_type": "code",
      "execution_count": 23,
      "metadata": {},
      "outputs": [
        {
          "name": "stdout",
          "output_type": "stream",
          "text": [
            "0 -9.763249477825624 0.34\n",
            "1e-06 -9.763228830975619 0.34\n",
            "0.0001 -9.761185235427776 0.34\n",
            "0.001 -9.742646250116293 0.34\n",
            "0.01 -9.561056193231325 0.34\n",
            "0.1 -8.058889769553687 0.34\n",
            "1 -3.1331542783986586 0.34\n",
            "5 -0.841086797552381 0.35\n",
            "10 -0.4381172315561054 0.35\n"
          ]
        }
      ],
      "source": [
        "# Check results:\n",
        "for r in [0, 0.000001, 0.0001, 0.001, 0.01, 0.1, 1, 5, 10]:\n",
        "    w_0, w = train_linear_regression_reg(X_null_train, y_train, r=r)\n",
        "    y_null_reg_val = w_0 + X_null_val.dot(w)\n",
        "    rmse_val = np.round(rmse(y_val, y_null_reg_val),2)\n",
        "    print(r, w_0, rmse_val)"
      ]
    },
    {
      "cell_type": "markdown",
      "metadata": {},
      "source": [
        "### Question 5 \n",
        "\n",
        "* We used seed 42 for splitting the data. Let's find out how selecting the seed influences our score.\n",
        "* Try different seed values: `[0, 1, 2, 3, 4, 5, 6, 7, 8, 9]`.\n",
        "* For each seed, do the train/validation/test split with 60%/20%/20% distribution.\n",
        "* Fill the missing values with 0 and train a model without regularization.\n",
        "* For each seed, evaluate the model on the validation dataset and collect the RMSE scores. \n",
        "* What's the standard deviation of all the scores? To compute the standard deviation, use `np.std`.\n",
        "* Round the result to 3 decimal digits (`round(std, 3)`)\n",
        "\n",
        "What's the value of std?\n",
        "\n",
        "- 0.5\n",
        "- 0.05\n",
        "- 0.005\n",
        "- 0.0005"
      ]
    },
    {
      "cell_type": "code",
      "execution_count": 24,
      "metadata": {},
      "outputs": [
        {
          "name": "stdout",
          "output_type": "stream",
          "text": [
            "0 -9.87006897147586 0.34\n",
            "1 -9.114011209299143 0.34\n",
            "2 -9.911560201173312 0.34\n",
            "3 -10.233183681569443 0.33\n",
            "4 -9.174763450440548 0.34\n",
            "5 -10.00664830321511 0.34\n",
            "6 -10.039903099546635 0.34\n",
            "7 -10.353545444732113 0.35\n",
            "8 -9.899416167072257 0.35\n",
            "9 -9.964622125894088 0.33\n"
          ]
        }
      ],
      "source": [
        "# Check RMSE scores:\n",
        "rmse_list = []\n",
        "\n",
        "for r in [0, 1, 2, 3, 4, 5, 6, 7, 8, 9]:\n",
        "\n",
        "    idx = np.arange(n)\n",
        "    np.random.seed(r)\n",
        "    np.random.shuffle(idx)\n",
        "\n",
        "    df_shuffled = data.iloc[idx]\n",
        "    \n",
        "    df_train = df_shuffled.iloc[:n_train].copy()\n",
        "    df_val = df_shuffled.iloc[n_train:n_train+n_val].copy()\n",
        "    df_test = df_shuffled.iloc[n_train+n_val:].copy()\n",
        "\n",
        "    df_train = df_train.reset_index(drop=True)\n",
        "    df_val = df_val.reset_index(drop=True)\n",
        "    df_test = df_test.reset_index(drop=True)\n",
        "    \n",
        "    y_train_orig = df_train.median_house_value.values\n",
        "    y_val_orig = df_val.median_house_value.values\n",
        "    y_test_orig = df_test.median_house_value.values\n",
        "\n",
        "    y_train = np.log1p(y_train_orig)\n",
        "    y_val = np.log1p(y_val_orig)\n",
        "    y_test = np.log1p(y_test_orig)\n",
        "    \n",
        "    del df_train['median_house_value']\n",
        "    del df_val['median_house_value']\n",
        "    del df_test['median_house_value']\n",
        "    \n",
        "    X_null_train = prepare_X(df_train, fillna_value=0)\n",
        "    w_0, w = train_linear_regression(X_null_train, y_train)\n",
        "    \n",
        "    X_null_val = prepare_X(df_val, fillna_value=0)\n",
        "    y_null_reg_val = w_0 + X_null_val.dot(w)\n",
        "    rmse_val = np.round(rmse(y_val, y_null_reg_val),2)\n",
        "    \n",
        "    rmse_list.append(rmse_val)\n",
        "    \n",
        "    print(r, w_0, rmse_val)"
      ]
    },
    {
      "cell_type": "code",
      "execution_count": 27,
      "metadata": {},
      "outputs": [
        {
          "name": "stdout",
          "output_type": "stream",
          "text": [
            "[0.34, 0.34, 0.34, 0.33, 0.34, 0.34, 0.34, 0.35, 0.35, 0.33]\n"
          ]
        },
        {
          "data": {
            "text/plain": [
              "0.006"
            ]
          },
          "execution_count": 27,
          "metadata": {},
          "output_type": "execute_result"
        }
      ],
      "source": [
        "print(rmse_list)\n",
        "\n",
        "#Standard Deviation RMSE:\n",
        "np.round(np.std(rmse_list),3)"
      ]
    },
    {
      "cell_type": "markdown",
      "metadata": {},
      "source": [
        "### Question 6\n",
        "\n",
        "* Split the dataset like previously, use seed 9.\n",
        "* Combine train and validation datasets.\n",
        "* Fill the missing values with 0 and train a model with `r=0.001`. \n",
        "* What's the RMSE on the test dataset?\n",
        "\n",
        "Options:\n",
        "\n",
        "- 0.13\n",
        "- 0.23\n",
        "- 0.33\n",
        "- 0.43"
      ]
    },
    {
      "cell_type": "code",
      "execution_count": 28,
      "metadata": {},
      "outputs": [],
      "source": [
        "r = 9\n",
        "\n",
        "idx = np.arange(n)\n",
        "np.random.seed(r)\n",
        "np.random.shuffle(idx)\n",
        "\n",
        "df_shuffled = data.iloc[idx]\n",
        "    \n",
        "df_train = df_shuffled.iloc[:n_train].copy()\n",
        "df_val = df_shuffled.iloc[n_train:n_train+n_val].copy()\n",
        "df_test = df_shuffled.iloc[n_train+n_val:].copy()\n",
        "\n",
        "frames = [df_train, df_val]\n",
        "df_train_val = pd.concat(frames)\n",
        "\n",
        "df_train_val = df_train_val.reset_index(drop=True)\n",
        "df_test = df_test.reset_index(drop=True)\n",
        "\n",
        "y_train_val_orig = df_train_val.median_house_value.values\n",
        "y_test_orig = df_test.median_house_value.values\n",
        "\n",
        "y_train_val = np.log1p(y_train_val_orig)\n",
        "y_test = np.log1p(y_test_orig)\n",
        "\n",
        "del df_train_val['median_house_value']\n",
        "del df_test['median_house_value']"
      ]
    },
    {
      "cell_type": "code",
      "execution_count": 29,
      "metadata": {},
      "outputs": [
        {
          "data": {
            "text/plain": [
              "0.33"
            ]
          },
          "execution_count": 29,
          "metadata": {},
          "output_type": "execute_result"
        }
      ],
      "source": [
        "X_null_train_val = prepare_X(df_train_val, fillna_value=0)\n",
        "w_0_train_val, w_train_val = train_linear_regression_reg(X_null_train_val, y_train_val, r=0.001)\n",
        "\n",
        "X_null_test = prepare_X(df_test, fillna_value=0)\n",
        "y_null_pred_test = w_0_train_val + X_null_test.dot(w_train_val)\n",
        "\n",
        "np.round(rmse(y_test, y_null_pred_test),2)"
      ]
    }
  ],
  "metadata": {
    "colab": {
      "provenance": []
    },
    "kernelspec": {
      "display_name": "Python 3.8.13 ('chatbot')",
      "language": "python",
      "name": "python3"
    },
    "language_info": {
      "codemirror_mode": {
        "name": "ipython",
        "version": 3
      },
      "file_extension": ".py",
      "mimetype": "text/x-python",
      "name": "python",
      "nbconvert_exporter": "python",
      "pygments_lexer": "ipython3",
      "version": "3.8.8"
    },
    "vscode": {
      "interpreter": {
        "hash": "4cbf2951cde2f569b578b1df868513fa15c696ba1c73b34f313a3fcf610bb9ca"
      }
    }
  },
  "nbformat": 4,
  "nbformat_minor": 0
}
